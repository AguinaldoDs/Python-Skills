{
 "cells": [
  {
   "cell_type": "markdown",
   "metadata": {},
   "source": [
    "Load file\n"
   ]
  },
  {
   "cell_type": "code",
   "execution_count": 9,
   "metadata": {},
   "outputs": [
    {
     "name": "stdout",
     "output_type": "stream",
     "text": [
      "Arquivo lido com sucesso\n",
      "Processando arquivo\n",
      "Colunas no DataFrame: ['idcliente', 'idcaso', 'dsagencia', 'dsranking', 'DescontoAntigo', 'DescontoNovo', 'DESCONTO']\n",
      "Valores nulos nas colunas: idcliente         0\n",
      "idcaso            0\n",
      "dsagencia         0\n",
      "dsranking         0\n",
      "DescontoAntigo    0\n",
      "DescontoNovo      0\n",
      "DESCONTO          0\n",
      "dtype: int64\n",
      "Tabela truncada com sucesso\n",
      "Lote 1 inserido com sucesso\n",
      "Lote 2 inserido com sucesso\n",
      "Lote 3 inserido com sucesso\n",
      "Lote 4 inserido com sucesso\n",
      "Rodou replace com sucesso\n"
     ]
    }
   ],
   "source": [
    "import datetime\n",
    "import pandas as pd\n",
    "import pyodbc\n",
    "\n",
    "def execute_job():\n",
    "    data = datetime.datetime.now().date().strftime(\"%Y%m%d\")\n",
    "    path = rf\"Z:\\\\Rollout\\\\R_{data}.csv\"\n",
    "    commit = 'replace'  # Option: { replace, insert }\n",
    "    \n",
    "    try:\n",
    "        read_f = pd.read_csv(path)\n",
    "        valid_f = True\n",
    "        print('Arquivo lido com sucesso')\n",
    "    except FileNotFoundError:\n",
    "        valid_f = False\n",
    "        print(f'Arquivo não encontrado: {path}')\n",
    "    \n",
    "    if valid_f:\n",
    "        lkd_server = '172.17.1.35'\n",
    "        db = 'dw'\n",
    "        usr = 'USR_MIS'\n",
    "        pwd = 'MIS@321'\n",
    "        path_db = f'DRIVER={{SQL Server}};SERVER={lkd_server};DATABASE={db};UID={usr};PWD={pwd}'\n",
    "    \n",
    "        connection = pyodbc.connect(path_db)\n",
    "        cursor = connection.cursor()\n",
    "\n",
    "        print('Processando arquivo')\n",
    "        cursor.fast_executemany = True\n",
    "\n",
    "        desired_order = ['idcliente', 'idcaso', 'dsagencia', 'dsranking', 'DescontoAntigo', 'DescontoNovo', 'DESCONTO']\n",
    "        \n",
    "        # Verifique as colunas no DataFrame\n",
    "        print('Colunas no DataFrame:', read_f.columns.tolist())\n",
    "        read_f = read_f[desired_order]\n",
    "\n",
    "        # Verifique valores nulos\n",
    "        print('Valores nulos nas colunas:', read_f.isnull().sum())\n",
    "\n",
    "        batch_size = 100000\n",
    "    \n",
    "        cursor.execute(\"TRUNCATE TABLE [recovery].[rollout_20240717]\")\n",
    "        connection.commit()\n",
    "        print('Tabela truncada com sucesso')\n",
    "\n",
    "        for start in range(0, len(read_f), batch_size):\n",
    "            end = start + batch_size\n",
    "            batch = read_f.iloc[start:end]\n",
    "            \n",
    "            data_to_insert = [\n",
    "                (row['idcliente'], row['idcaso'], row['dsagencia'], row['dsranking'], \n",
    "                    row['DescontoAntigo'], row['DescontoNovo'], row['DESCONTO'])\n",
    "                for index, row in batch.iterrows()\n",
    "            ]\n",
    "\n",
    "            cursor.executemany(\n",
    "                \"\"\"\n",
    "                INSERT INTO [recovery].[rollout_20240717] \n",
    "                (IdCliente, IdCaso, DsAgencia, dsranking, DescontoAntigo, DescontoNovo, DESCONTO, DataImportacao) \n",
    "                VALUES (?, ?, ?, ?, ?, ?, ?, GETDATE())\n",
    "                \"\"\",\n",
    "                data_to_insert\n",
    "            )\n",
    "\n",
    "            connection.commit()\n",
    "            print(f'Lote {start // batch_size + 1} inserido com sucesso')\n",
    "\n",
    "        print('Rodou replace com sucesso')\n",
    "       \n",
    "    \n",
    "execute_job();"
   ]
  }
 ],
 "metadata": {
  "kernelspec": {
   "display_name": "new_r",
   "language": "python",
   "name": "python3"
  },
  "language_info": {
   "codemirror_mode": {
    "name": "ipython",
    "version": 3
   },
   "file_extension": ".py",
   "mimetype": "text/x-python",
   "name": "python",
   "nbconvert_exporter": "python",
   "pygments_lexer": "ipython3",
   "version": "3.11.7"
  }
 },
 "nbformat": 4,
 "nbformat_minor": 2
}
