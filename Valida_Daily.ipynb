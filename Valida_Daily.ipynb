{
 "cells": [
  {
   "cell_type": "code",
   "execution_count": 13,
   "metadata": {},
   "outputs": [
    {
     "name": "stdout",
     "output_type": "stream",
     "text": [
      "[(151, 'Enviar'), (152, 'Enviar'), (155, 'Enviar'), (667, 'Enviar'), (903, 'Enviar'), (909, 'Enviar'), (913, 'Enviar'), (915, 'Enviar')]\n"
     ]
    }
   ],
   "source": [
    "#Bibliotecas externas\n",
    "import pandas as pd\n",
    "import pyodbc\n",
    "from datetime import datetime\n",
    "\n",
    "# String de conexão\n",
    "connection_string = (\n",
    "    f\"DRIVER={{ODBC Driver 17 for SQL Server}};\"\n",
    "    f\"SERVER=172.17.1.115;\"\n",
    "    f\"DATABASE=dbdatastoreHouse;\"\n",
    "    f\"UID=USR_MIS;\"\n",
    "    f\"PWD=MIS@321\"\n",
    ")\n",
    "\n",
    "\n",
    "\n",
    "#Data procurada\n",
    "data_atual = datetime.today()\n",
    "data_formatada = data_atual.strftime('%Y-%m-%d')\n",
    "\n",
    "# Tentar se conectar\n",
    "validaCodigoCarteira = False\n",
    "indice_Filial = 0\n",
    "try:\n",
    "    conn = pyodbc.connect(connection_string)\n",
    "    unidades = ['Marechal','Aviacao','Saverio']\n",
    "\n",
    "    # Criar cursor para executar consultas SQL\n",
    "    cursor = conn.cursor()\n",
    "\n",
    "    # Exemplo de consulta\n",
    "    query = f\"\"\"SELECT  \n",
    "                    CodigoCarteira,\n",
    "                    Msg\n",
    "                FROM dbdatastorehouse.dbo.MapaDailyPesoToPy WITH (NOLOCK)\n",
    "                WHERE DataAtualizacao = '2024-09-20'\n",
    "                and Filial = {unidades[0]}\n",
    "                --CONVERT(DATE, '{data_formatada}'\"\"\"\n",
    "\n",
    "    # Executar a consulta\n",
    "    cursor.execute(query)\n",
    "    arrayCdCli = [];\n",
    "    for row in cursor:\n",
    "    # Adicionar a linha inteira ao array\n",
    "        arrayCdCli.append(row)\n",
    "    \n",
    "    # Fechar conexão\n",
    "    cursor.close()\n",
    "    conn.close()\n",
    "    validaCodigoCarteira = True\n",
    "    print(arrayCdCli)\n",
    "except Exception as e:\n",
    "    print(\"Erro ao conectar:\", e)\n",
    "\n",
    "\n",
    "if (validaCodigoCarteira):\n",
    "    path = f\"\"\" Z:\\DailysToPy\\{unidades[0]}\\Daily\"\"\"\n",
    "    pd.read_excel();    \n",
    "\n",
    "\n"
   ]
  },
  {
   "cell_type": "code",
   "execution_count": 34,
   "metadata": {},
   "outputs": [
    {
     "ename": "com_error",
     "evalue": "(-2147352567, 'Exceção.', (0, 'Microsoft Excel', \"Não é possível executar a macro 'Atualiza_Tudo'. A macro poderá não estar disponível neste livro ou todas as macros poderão estar desativadas.\", 'xlmain11.chm', 0, -2146827284), None)",
     "output_type": "error",
     "traceback": [
      "\u001b[1;31m---------------------------------------------------------------------------\u001b[0m",
      "\u001b[1;31mcom_error\u001b[0m                                 Traceback (most recent call last)",
      "Cell \u001b[1;32mIn[34], line 16\u001b[0m\n\u001b[0;32m     13\u001b[0m workbook \u001b[38;5;241m=\u001b[39m xl\u001b[38;5;241m.\u001b[39mWorkbooks\u001b[38;5;241m.\u001b[39mOpen(Filename\u001b[38;5;241m=\u001b[39mcaminho_excel, ReadOnly\u001b[38;5;241m=\u001b[39m\u001b[38;5;241m1\u001b[39m)\n\u001b[0;32m     15\u001b[0m \u001b[38;5;66;03m# Executa a macro\u001b[39;00m\n\u001b[1;32m---> 16\u001b[0m xl\u001b[38;5;241m.\u001b[39mApplication\u001b[38;5;241m.\u001b[39mRun(\u001b[38;5;124m'\u001b[39m\u001b[38;5;124mAtualiza_Tudo\u001b[39m\u001b[38;5;124m'\u001b[39m)\n\u001b[0;32m     18\u001b[0m \u001b[38;5;66;03m# Salva o arquivo\u001b[39;00m\n\u001b[0;32m     19\u001b[0m workbook\u001b[38;5;241m.\u001b[39mSave()\n",
      "File \u001b[1;32m<COMObject <unknown>>:8\u001b[0m, in \u001b[0;36mRun\u001b[1;34m(self, Macro, Arg1, Arg2, Arg3, Arg4, Arg5, Arg6, Arg7, Arg8, Arg9, Arg10, Arg11, Arg12, Arg13, Arg14, Arg15, Arg16, Arg17, Arg18, Arg19, Arg20, Arg21, Arg22, Arg23, Arg24, Arg25, Arg26, Arg27, Arg28, Arg29, Arg30)\u001b[0m\n",
      "File \u001b[1;32mc:\\Users\\t29969\\AppData\\Local\\anaconda3\\Lib\\site-packages\\win32com\\client\\dynamic.py:368\u001b[0m, in \u001b[0;36mCDispatch._ApplyTypes_\u001b[1;34m(self, dispid, wFlags, retType, argTypes, user, resultCLSID, *args)\u001b[0m\n\u001b[0;32m    367\u001b[0m \u001b[38;5;28;01mdef\u001b[39;00m \u001b[38;5;21m_ApplyTypes_\u001b[39m(\u001b[38;5;28mself\u001b[39m, dispid, wFlags, retType, argTypes, user, resultCLSID, \u001b[38;5;241m*\u001b[39margs):\n\u001b[1;32m--> 368\u001b[0m     result \u001b[38;5;241m=\u001b[39m \u001b[38;5;28mself\u001b[39m\u001b[38;5;241m.\u001b[39m_oleobj_\u001b[38;5;241m.\u001b[39mInvokeTypes(\n\u001b[0;32m    369\u001b[0m         \u001b[38;5;241m*\u001b[39m(dispid, LCID, wFlags, retType, argTypes) \u001b[38;5;241m+\u001b[39m args\n\u001b[0;32m    370\u001b[0m     )\n\u001b[0;32m    371\u001b[0m     \u001b[38;5;28;01mreturn\u001b[39;00m \u001b[38;5;28mself\u001b[39m\u001b[38;5;241m.\u001b[39m_get_good_object_(result, user, resultCLSID)\n",
      "\u001b[1;31mcom_error\u001b[0m: (-2147352567, 'Exceção.', (0, 'Microsoft Excel', \"Não é possível executar a macro 'Atualiza_Tudo'. A macro poderá não estar disponível neste livro ou todas as macros poderão estar desativadas.\", 'xlmain11.chm', 0, -2146827284), None)"
     ]
    }
   ],
   "source": [
    "import win32com.client\n",
    "\n",
    "# Caminho do arquivo Excel\n",
    "caminho_excel = r\"C:\\Users\\t29969\\Downloads\\Daily_35_BV_CELULA_ESPECIALIZADA.xlsb\"\n",
    "\n",
    "# Inicia uma instância do Excel\n",
    "xl = win32com.client.Dispatch('Excel.Application')\n",
    "\n",
    "# Torna o Excel visível (opcional)\n",
    "#xl.Visible = True\n",
    "\n",
    "# Abre o arquivo Excel\n",
    "workbook = xl.Workbooks.Open(Filename=caminho_excel, ReadOnly=1)\n",
    "\n",
    "# Executa a macro\n",
    "xl.Application.Run('Atualiza_Tudo')\n",
    "\n",
    "# Salva o arquivo\n",
    "workbook.Save()\n",
    "workbook.Close(SaveChanges=1)\n",
    "\n",
    "# Encerra a aplicação do Excel\n",
    "xl.Application.Quit()\n",
    "\n",
    "# Libera a variável\n",
    "del xl\n"
   ]
  }
 ],
 "metadata": {
  "kernelspec": {
   "display_name": "base",
   "language": "python",
   "name": "python3"
  },
  "language_info": {
   "codemirror_mode": {
    "name": "ipython",
    "version": 3
   },
   "file_extension": ".py",
   "mimetype": "text/x-python",
   "name": "python",
   "nbconvert_exporter": "python",
   "pygments_lexer": "ipython3",
   "version": "3.11.7"
  }
 },
 "nbformat": 4,
 "nbformat_minor": 2
}
