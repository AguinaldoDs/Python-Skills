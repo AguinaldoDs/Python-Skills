{
 "cells": [
  {
   "cell_type": "code",
   "execution_count": 12,
   "metadata": {},
   "outputs": [
    {
     "name": "stdout",
     "output_type": "stream",
     "text": [
      "[(575, 'Enviar', 'ATIVOS', 'Marechal'), (151, 'Enviar', 'BBF', 'Marechal'), (155, 'Enviar', 'VEICULOS', 'Marechal'), (667, 'Enviar', 'LOSANGO', 'Marechal'), (853, 'Enviar', 'RECOVERY', 'Marechal'), (903, 'Enviar', 'SAUDE', 'Marechal'), (911, 'Enviar', 'COMERCIAL', 'Marechal'), (913, 'Enviar', 'CI', 'Marechal'), (915, 'Enviar', 'CI_DEJUR', 'Marechal')]\n"
     ]
    }
   ],
   "source": [
    "#Bibliotecas externas\n",
    "import pyodbc\n",
    "from datetime import datetime\n",
    "import win32com.client\n",
    "\n",
    "# String de conexão\n",
    "connection_string = (\n",
    "    f\"DRIVER={{ODBC Driver 17 for SQL Server}};\"\n",
    "    f\"SERVER=172.17.1.115;\"\n",
    "    f\"DATABASE=dbdatastoreHouse;\"\n",
    "    f\"UID=USR_MIS;\"\n",
    "    f\"PWD=MIS@321\")\n",
    "\n",
    "\n",
    "\n",
    "#Data procurada\n",
    "data_atual = datetime.today()\n",
    "data_formatada = data_atual.strftime('%Y-%m-%d')\n",
    "\n",
    "# Tentar se conectar\n",
    "validaCodigoCarteira = False\n",
    "indice_Filial = 0\n",
    "try:\n",
    "    conn = pyodbc.connect(connection_string)\n",
    "\n",
    "    # Criar cursor para executar consultas SQL\n",
    "    cursor = conn.cursor()\n",
    "\n",
    "    # Exemplo de consulta\n",
    "    query = f\"\"\"select\t\n",
    "\t\t\t\ta.CodigoCarteira,\n",
    "\t\t\t\ta.msg,\n",
    "\t\t\t\tb.Carteira,\n",
    "\t\t\t\tb.Filial\n",
    "\n",
    "\t\t   from dbdatastorehouse.dbo.MapaDailyPesoToPy a with(nolock)\n",
    "\t\t   join [dbdatastorehouse].[dbo].[dp_dailytopy] b on a.CodigoCarteira = b.GrupoCliente\n",
    "                WHERE a.DataAtualizacao = '2024-09-20'\n",
    "                \"\"\"\n",
    "\n",
    "    # Executar a consulta\n",
    "    cursor.execute(query)\n",
    "    arrayCdCli = []\n",
    "    for row in cursor:\n",
    "    # Adicionar a linha inteira ao array\n",
    "        arrayCdCli.append(row)\n",
    "    \n",
    "    # Fechar conexão\n",
    "    cursor.close()\n",
    "    conn.close()\n",
    "    \n",
    "    print(arrayCdCli)\n",
    "\n",
    "\n",
    "\n",
    "\n",
    "\n",
    "\n",
    "except Exception as e:\n",
    "    print(\"Erro ao conectar:\", e)\n",
    "\n",
    "\n"
   ]
  },
  {
   "cell_type": "code",
   "execution_count": 4,
   "metadata": {},
   "outputs": [
    {
     "name": "stdout",
     "output_type": "stream",
     "text": [
      "Macro executada com sucesso!\n",
      "Processo concluído.\n"
     ]
    }
   ],
   "source": [
    "import win32com.client\n",
    "def AtualizaMacro(CodigoCarteira,Banco,Carteira,Filial):\n",
    "\n",
    "    # CodigoCarteira = 138\n",
    "    # Banco = 'BV'\n",
    "    # Carteira = 'CL'\n",
    "    # Filial = 'Aviacao'\n",
    "\n",
    "    # Caminho do arquivo Excel\n",
    "    caminho_excel = rf\"C:\\Users\\t29969\\Downloads\\Dailys\\{Filial}\\Daily_{CodigoCarteira}_{Banco}_{Carteira}.xlsb\"\n",
    "\n",
    "    # Inicia uma instância do Excel\n",
    "    excel = win32com.client.Dispatch(\"Excel.Application\")\n",
    "\n",
    "    # Torna o Excel visível (opcional)\n",
    "    excel.Visible = False\n",
    "\n",
    "    # Abre o arquivo Excel\n",
    "    workbook = excel.Workbooks.Open(Filename=caminho_excel)\n",
    "\n",
    "    # Habilita as macros (caso estejam desabilitadas por padrão)\n",
    "    excel.AutomationSecurity = 3  # Habilita macros\n",
    "\n",
    "    # Executa a macro (certifique-se que o nome está correto)\n",
    "    try:\n",
    "        excel.Application.Run('Atualiza_Tudo.Atu_tudo')\n",
    "        print(\"Macro executada com sucesso!\")\n",
    "    except Exception as e:\n",
    "        print(f\"Erro ao executar a macro: {e}\")\n",
    "\n",
    "    # Salva e fecha o arquivo\n",
    "    workbook.Save()\n",
    "    workbook.Close(SaveChanges=1)\n",
    "\n",
    "    # Fecha o Excel\n",
    "    excel.Application.Quit()\n",
    "\n",
    "    # Libera a variável\n",
    "    del excel\n",
    "    print(\"Processo concluído.\")\n",
    "\n",
    "\n",
    "AtualizaMacro(138,'BV','CL','Aviacao')\n"
   ]
  },
  {
   "cell_type": "code",
   "execution_count": null,
   "metadata": {},
   "outputs": [],
   "source": []
  }
 ],
 "metadata": {
  "kernelspec": {
   "display_name": "base",
   "language": "python",
   "name": "python3"
  },
  "language_info": {
   "codemirror_mode": {
    "name": "ipython",
    "version": 3
   },
   "file_extension": ".py",
   "mimetype": "text/x-python",
   "name": "python",
   "nbconvert_exporter": "python",
   "pygments_lexer": "ipython3",
   "version": "3.11.7"
  }
 },
 "nbformat": 4,
 "nbformat_minor": 2
}
