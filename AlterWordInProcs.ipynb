{
 "cells": [
  {
   "cell_type": "code",
   "execution_count": 1,
   "metadata": {},
   "outputs": [
    {
     "ename": "KeyboardInterrupt",
     "evalue": "",
     "output_type": "error",
     "traceback": [
      "\u001b[1;31m---------------------------------------------------------------------------\u001b[0m",
      "\u001b[1;31mKeyboardInterrupt\u001b[0m                         Traceback (most recent call last)",
      "Cell \u001b[1;32mIn[1], line 112\u001b[0m\n\u001b[0;32m    110\u001b[0m \u001b[38;5;28;01mwhile\u001b[39;00m \u001b[38;5;28;01mTrue\u001b[39;00m:\n\u001b[0;32m    111\u001b[0m     schedule\u001b[38;5;241m.\u001b[39mrun_pending()\n\u001b[1;32m--> 112\u001b[0m     time\u001b[38;5;241m.\u001b[39msleep(\u001b[38;5;241m1\u001b[39m)\n",
      "\u001b[1;31mKeyboardInterrupt\u001b[0m: "
     ]
    }
   ],
   "source": [
    "import pyodbc\n",
    "\n",
    "# Config db\n",
    "server = 'server'\n",
    "database = 'database'\n",
    "USR = 'USR'\n",
    "PWD = 'MIS@PWD'\n",
    "connection_string = f'DRIVER={{SQL Server}};SERVER={server};DATABASE={database};UID={USR};PWD={PWD};'\n",
    "\n",
    "# Old word -> new word\n",
    "replacements = {\n",
    "    'tb_old': 'tb_new'\n",
    "}\n",
    "\n",
    "# Connect\n",
    "connection = pyodbc.connect(connection_string)\n",
    "cursor = connection.cursor()\n",
    "\n",
    "# Proc name\n",
    "procedure_name = 'dbo.PROC_QUARTIL_GERAL'\n",
    "\n",
    "try:\n",
    "    # get the content of proc\n",
    "    cursor.execute(f\"SELECT OBJECT_DEFINITION(OBJECT_ID('{procedure_name}')) AS ROUTINE_DEFINITION\")\n",
    "    procedure_definition = cursor.fetchone().ROUTINE_DEFINITION\n",
    "    # valid proc\n",
    "    if procedure_definition is not None:\n",
    "        # find the as to dont do 'alter inside other alter'\n",
    "        index_as = procedure_definition.upper().find('AS')\n",
    "\n",
    "        if index_as != -1:\n",
    "            new_definition = procedure_definition[index_as + 2:].strip()\n",
    "\n",
    "            # replace old -> new word\n",
    "            for old_word, new_word in replacements.items():\n",
    "                new_definition = new_definition.replace(old_word, new_word)\n",
    "            \n",
    "            # alter procedure\n",
    "            alter_procedure_command = f\"\"\"\n",
    "            ALTER PROCEDURE {procedure_name}\n",
    "            AS\n",
    "            {new_definition}\n",
    "            \"\"\"\n",
    "\n",
    "            # commit\n",
    "            cursor.execute(alter_procedure_command)\n",
    "            print(f\"Sucess\")\n",
    "\n",
    "            connection.commit()\n",
    "\n",
    "        else:\n",
    "            print(f\"Not fount 'AS' in '{procedure_name}'.\")\n",
    "\n",
    "    else:\n",
    "        print(f\"Stored procedure '{procedure_name}' not found\")\n",
    "\n",
    "except Exception as e:\n",
    "    print(f\"Erro to alter procedure '{procedure_name}': {e}\")\n",
    "    \n",
    "\n",
    "finally:\n",
    "    cursor.close()\n",
    "    connection.close()"
   ]
  }
 ],
 "metadata": {
  "kernelspec": {
   "display_name": "base",
   "language": "python",
   "name": "python3"
  },
  "language_info": {
   "codemirror_mode": {
    "name": "ipython",
    "version": 3
   },
   "file_extension": ".py",
   "mimetype": "text/x-python",
   "name": "python",
   "nbconvert_exporter": "python",
   "pygments_lexer": "ipython3",
   "version": "3.11.7"
  }
 },
 "nbformat": 4,
 "nbformat_minor": 2
}
